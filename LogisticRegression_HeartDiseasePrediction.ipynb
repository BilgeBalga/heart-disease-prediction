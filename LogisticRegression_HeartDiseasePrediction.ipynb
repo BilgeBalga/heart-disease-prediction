{
 "cells": [
  {
   "cell_type": "markdown",
   "id": "f2c41c96-1025-43d1-ad6d-a1d4eca9aba1",
   "metadata": {},
   "source": [
    "# Heart Disease Prediction Using Logistic Regression\n",
    "Logistic regression is a supervised machine learning algorithm used for classification tasks where the goal is to predict the probability that an instance belongs to a given class or not. Logistic regression is a statistical algorithm which analyze the relationship between two data factors.\n",
    "\n",
    "The dataset is from an ongoing cardiovascular study on residents of the town of Framingham, Massachusetts. The classification goal is to predict whether the patient has 10-year risk of future coronary heart disease (CHD)."
   ]
  },
  {
   "cell_type": "markdown",
   "id": "b59d33ff-2d53-4bc1-81cb-829b8a4912b9",
   "metadata": {},
   "source": [
    "![img](data:image/jpeg;base64,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)"
   ]
  },
  {
   "cell_type": "markdown",
   "id": "ece09f67-d39f-4d84-8654-6c2bd787d2c2",
   "metadata": {},
   "source": [
    "## Dataset description\n",
    "male: erkek\n",
    "\n",
    "age: yaş\n",
    "\n",
    "education: eğitim\n",
    "\n",
    "currentSmoker: mevcut sigara içici\n",
    "\n",
    "cigsPerDay:\tgünde içilen sigara sayısı\n",
    "\n",
    "BPMeds:\tBP ilaçları\n",
    "\n",
    "prevalentStroke:\tmevcut inme\n",
    "\n",
    "prevalentHyp:\tmevcut hipertansiyon\n",
    "\n",
    "diabetes:\tdiyabet\n",
    "\n",
    "totChol:\ttoplam kolesterol\n",
    "\n",
    "sysBP:\tsistolik kan basıncı\n",
    "\n",
    "diaBP:\tdiastolik kan basıncı\n",
    "\n",
    "BMI:\tvücut kitle indeksi\n",
    "\n",
    "heartRate:\tkalp atış hızı\n",
    "\n",
    "glucose:\tglukoz\n",
    "\n",
    "TenYearCHD:\tOn Yıllık Kalp Hastalığı Riski"
   ]
  },
  {
   "cell_type": "markdown",
   "id": "9539476f-7fca-479b-9864-ad9c412c621d",
   "metadata": {},
   "source": [
    "## Import Libraries"
   ]
  },
  {
   "cell_type": "code",
   "execution_count": 19,
   "id": "774e7be1-f0d9-40c9-8247-a0ae96a5b94c",
   "metadata": {},
   "outputs": [],
   "source": [
    "import pandas as pd  # For data processing and DataFrame structure\n",
    "import numpy as np  # For numerical operations and working with arrays\n",
    "\n",
    "import matplotlib.pyplot as plt  # Data visualization library\n",
    "from matplotlib import rcParams\n",
    "import seaborn as sns  # Statistical data visualization\n",
    "import pylab as pl  # A subset of Matplotlib, for plotting\n",
    "import matplotlib.mlab as mlab  # Deprecated module of Matplotlib (visualization)\n",
    "\n",
    "import statsmodels.api as sm  # For statistical modeling and hypothesis testing\n",
    "import scipy.optimize as opt  # For optimization algorithms\n",
    "\n",
    "from sklearn import preprocessing  # For data scaling and preprocessing\n",
    "from sklearn.model_selection import train_test_split # Split train test \n",
    "from sklearn.linear_model import LogisticRegression # Logistic Regression model"
   ]
  },
  {
   "cell_type": "markdown",
   "id": "05cf0bd5-ddde-4b46-a618-4a1903a019c8",
   "metadata": {},
   "source": [
    "## Load Dataset"
   ]
  },
  {
   "cell_type": "code",
   "execution_count": 2,
   "id": "67f84a42-959c-4eb7-be5b-0735a25e95bd",
   "metadata": {},
   "outputs": [
    {
     "name": "stdout",
     "output_type": "stream",
     "text": [
      "LogisticRegression_HeartDiseasePrediction.ipynb\n",
      "framingham.csv\n"
     ]
    }
   ],
   "source": [
    "ls"
   ]
  },
  {
   "cell_type": "code",
   "execution_count": 3,
   "id": "e73bc632-ce0d-4bed-8137-04e93ccebe90",
   "metadata": {},
   "outputs": [
    {
     "data": {
      "text/html": [
       "<div>\n",
       "<style scoped>\n",
       "    .dataframe tbody tr th:only-of-type {\n",
       "        vertical-align: middle;\n",
       "    }\n",
       "\n",
       "    .dataframe tbody tr th {\n",
       "        vertical-align: top;\n",
       "    }\n",
       "\n",
       "    .dataframe thead th {\n",
       "        text-align: right;\n",
       "    }\n",
       "</style>\n",
       "<table border=\"1\" class=\"dataframe\">\n",
       "  <thead>\n",
       "    <tr style=\"text-align: right;\">\n",
       "      <th></th>\n",
       "      <th>male</th>\n",
       "      <th>age</th>\n",
       "      <th>education</th>\n",
       "      <th>currentSmoker</th>\n",
       "      <th>cigsPerDay</th>\n",
       "      <th>BPMeds</th>\n",
       "      <th>prevalentStroke</th>\n",
       "      <th>prevalentHyp</th>\n",
       "      <th>diabetes</th>\n",
       "      <th>totChol</th>\n",
       "      <th>sysBP</th>\n",
       "      <th>diaBP</th>\n",
       "      <th>BMI</th>\n",
       "      <th>heartRate</th>\n",
       "      <th>glucose</th>\n",
       "      <th>TenYearCHD</th>\n",
       "    </tr>\n",
       "  </thead>\n",
       "  <tbody>\n",
       "    <tr>\n",
       "      <th>0</th>\n",
       "      <td>1</td>\n",
       "      <td>39</td>\n",
       "      <td>4.0</td>\n",
       "      <td>0</td>\n",
       "      <td>0.0</td>\n",
       "      <td>0.0</td>\n",
       "      <td>0</td>\n",
       "      <td>0</td>\n",
       "      <td>0</td>\n",
       "      <td>195.0</td>\n",
       "      <td>106.0</td>\n",
       "      <td>70.0</td>\n",
       "      <td>26.97</td>\n",
       "      <td>80.0</td>\n",
       "      <td>77.0</td>\n",
       "      <td>0</td>\n",
       "    </tr>\n",
       "    <tr>\n",
       "      <th>1</th>\n",
       "      <td>0</td>\n",
       "      <td>46</td>\n",
       "      <td>2.0</td>\n",
       "      <td>0</td>\n",
       "      <td>0.0</td>\n",
       "      <td>0.0</td>\n",
       "      <td>0</td>\n",
       "      <td>0</td>\n",
       "      <td>0</td>\n",
       "      <td>250.0</td>\n",
       "      <td>121.0</td>\n",
       "      <td>81.0</td>\n",
       "      <td>28.73</td>\n",
       "      <td>95.0</td>\n",
       "      <td>76.0</td>\n",
       "      <td>0</td>\n",
       "    </tr>\n",
       "    <tr>\n",
       "      <th>2</th>\n",
       "      <td>1</td>\n",
       "      <td>48</td>\n",
       "      <td>1.0</td>\n",
       "      <td>1</td>\n",
       "      <td>20.0</td>\n",
       "      <td>0.0</td>\n",
       "      <td>0</td>\n",
       "      <td>0</td>\n",
       "      <td>0</td>\n",
       "      <td>245.0</td>\n",
       "      <td>127.5</td>\n",
       "      <td>80.0</td>\n",
       "      <td>25.34</td>\n",
       "      <td>75.0</td>\n",
       "      <td>70.0</td>\n",
       "      <td>0</td>\n",
       "    </tr>\n",
       "    <tr>\n",
       "      <th>3</th>\n",
       "      <td>0</td>\n",
       "      <td>61</td>\n",
       "      <td>3.0</td>\n",
       "      <td>1</td>\n",
       "      <td>30.0</td>\n",
       "      <td>0.0</td>\n",
       "      <td>0</td>\n",
       "      <td>1</td>\n",
       "      <td>0</td>\n",
       "      <td>225.0</td>\n",
       "      <td>150.0</td>\n",
       "      <td>95.0</td>\n",
       "      <td>28.58</td>\n",
       "      <td>65.0</td>\n",
       "      <td>103.0</td>\n",
       "      <td>1</td>\n",
       "    </tr>\n",
       "    <tr>\n",
       "      <th>4</th>\n",
       "      <td>0</td>\n",
       "      <td>46</td>\n",
       "      <td>3.0</td>\n",
       "      <td>1</td>\n",
       "      <td>23.0</td>\n",
       "      <td>0.0</td>\n",
       "      <td>0</td>\n",
       "      <td>0</td>\n",
       "      <td>0</td>\n",
       "      <td>285.0</td>\n",
       "      <td>130.0</td>\n",
       "      <td>84.0</td>\n",
       "      <td>23.10</td>\n",
       "      <td>85.0</td>\n",
       "      <td>85.0</td>\n",
       "      <td>0</td>\n",
       "    </tr>\n",
       "  </tbody>\n",
       "</table>\n",
       "</div>"
      ],
      "text/plain": [
       "   male  age  education  currentSmoker  cigsPerDay  BPMeds  prevalentStroke  \\\n",
       "0     1   39        4.0              0         0.0     0.0                0   \n",
       "1     0   46        2.0              0         0.0     0.0                0   \n",
       "2     1   48        1.0              1        20.0     0.0                0   \n",
       "3     0   61        3.0              1        30.0     0.0                0   \n",
       "4     0   46        3.0              1        23.0     0.0                0   \n",
       "\n",
       "   prevalentHyp  diabetes  totChol  sysBP  diaBP    BMI  heartRate  glucose  \\\n",
       "0             0         0    195.0  106.0   70.0  26.97       80.0     77.0   \n",
       "1             0         0    250.0  121.0   81.0  28.73       95.0     76.0   \n",
       "2             0         0    245.0  127.5   80.0  25.34       75.0     70.0   \n",
       "3             1         0    225.0  150.0   95.0  28.58       65.0    103.0   \n",
       "4             0         0    285.0  130.0   84.0  23.10       85.0     85.0   \n",
       "\n",
       "   TenYearCHD  \n",
       "0           0  \n",
       "1           0  \n",
       "2           0  \n",
       "3           1  \n",
       "4           0  "
      ]
     },
     "execution_count": 3,
     "metadata": {},
     "output_type": "execute_result"
    }
   ],
   "source": [
    "disease_df = pd.read_csv(\"framingham.csv\")\n",
    "disease_df.head()"
   ]
  },
  {
   "cell_type": "code",
   "execution_count": 4,
   "id": "1bfbcac4-4dbb-458d-b87b-a6da8ef37d2d",
   "metadata": {},
   "outputs": [
    {
     "data": {
      "text/plain": [
       "(4240, 16)"
      ]
     },
     "execution_count": 4,
     "metadata": {},
     "output_type": "execute_result"
    }
   ],
   "source": [
    "disease_df.shape"
   ]
  },
  {
   "cell_type": "code",
   "execution_count": 5,
   "id": "dc37714b-105e-4376-91c6-2d22fa0b340b",
   "metadata": {},
   "outputs": [
    {
     "name": "stdout",
     "output_type": "stream",
     "text": [
      "<class 'pandas.core.frame.DataFrame'>\n",
      "RangeIndex: 4240 entries, 0 to 4239\n",
      "Data columns (total 16 columns):\n",
      " #   Column           Non-Null Count  Dtype  \n",
      "---  ------           --------------  -----  \n",
      " 0   male             4240 non-null   int64  \n",
      " 1   age              4240 non-null   int64  \n",
      " 2   education        4135 non-null   float64\n",
      " 3   currentSmoker    4240 non-null   int64  \n",
      " 4   cigsPerDay       4211 non-null   float64\n",
      " 5   BPMeds           4187 non-null   float64\n",
      " 6   prevalentStroke  4240 non-null   int64  \n",
      " 7   prevalentHyp     4240 non-null   int64  \n",
      " 8   diabetes         4240 non-null   int64  \n",
      " 9   totChol          4190 non-null   float64\n",
      " 10  sysBP            4240 non-null   float64\n",
      " 11  diaBP            4240 non-null   float64\n",
      " 12  BMI              4221 non-null   float64\n",
      " 13  heartRate        4239 non-null   float64\n",
      " 14  glucose          3852 non-null   float64\n",
      " 15  TenYearCHD       4240 non-null   int64  \n",
      "dtypes: float64(9), int64(7)\n",
      "memory usage: 530.1 KB\n"
     ]
    }
   ],
   "source": [
    "disease_df.info()"
   ]
  },
  {
   "cell_type": "markdown",
   "id": "8e93c31d-e10a-48d9-8621-3269060fcc8a",
   "metadata": {},
   "source": [
    "## EDA - Exploratory Data Analysis"
   ]
  },
  {
   "cell_type": "code",
   "execution_count": 7,
   "id": "4f96d9fb-41de-427a-b2f1-efae554414bd",
   "metadata": {},
   "outputs": [
    {
     "data": {
      "text/plain": [
       "male                 0\n",
       "age                  0\n",
       "education          105\n",
       "currentSmoker        0\n",
       "cigsPerDay          29\n",
       "BPMeds              53\n",
       "prevalentStroke      0\n",
       "prevalentHyp         0\n",
       "diabetes             0\n",
       "totChol             50\n",
       "sysBP                0\n",
       "diaBP                0\n",
       "BMI                 19\n",
       "heartRate            1\n",
       "glucose            388\n",
       "TenYearCHD           0\n",
       "dtype: int64"
      ]
     },
     "execution_count": 7,
     "metadata": {},
     "output_type": "execute_result"
    }
   ],
   "source": [
    "disease_df.isnull().sum()"
   ]
  },
  {
   "cell_type": "code",
   "execution_count": 8,
   "id": "cd034bea-84ac-49b2-8077-0a1de28ce184",
   "metadata": {},
   "outputs": [
    {
     "name": "stdout",
     "output_type": "stream",
     "text": [
      "   male  age  education  currentSmoker  cigsPerDay  BPMeds  prevalentStroke  \\\n",
      "0     1   39        4.0              0         0.0     0.0                0   \n",
      "1     0   46        2.0              0         0.0     0.0                0   \n",
      "2     1   48        1.0              1        20.0     0.0                0   \n",
      "3     0   61        3.0              1        30.0     0.0                0   \n",
      "4     0   46        3.0              1        23.0     0.0                0   \n",
      "\n",
      "   prevalentHyp  diabetes  totChol  sysBP  diaBP    BMI  heartRate  glucose  \\\n",
      "0             0         0    195.0  106.0   70.0  26.97       80.0     77.0   \n",
      "1             0         0    250.0  121.0   81.0  28.73       95.0     76.0   \n",
      "2             0         0    245.0  127.5   80.0  25.34       75.0     70.0   \n",
      "3             1         0    225.0  150.0   95.0  28.58       65.0    103.0   \n",
      "4             0         0    285.0  130.0   84.0  23.10       85.0     85.0   \n",
      "\n",
      "   TenYearCHD  \n",
      "0           0  \n",
      "1           0  \n",
      "2           0  \n",
      "3           1  \n",
      "4           0   (3658, 16)\n"
     ]
    }
   ],
   "source": [
    "# removing NaN / NULL values\n",
    "disease_df.dropna(axis = 0, inplace = True)\n",
    "print(disease_df.head(), disease_df.shape)"
   ]
  },
  {
   "cell_type": "code",
   "execution_count": 25,
   "id": "b7b6d24e-ced4-413a-9512-2fea611c439b",
   "metadata": {},
   "outputs": [
    {
     "name": "stdout",
     "output_type": "stream",
     "text": [
      "male                 0\n",
      "age                  0\n",
      "education          105\n",
      "currentSmoker        0\n",
      "cigsPerDay          29\n",
      "BPMeds              53\n",
      "prevalentStroke      0\n",
      "prevalentHyp         0\n",
      "diabetes             0\n",
      "totChol             50\n",
      "sysBP                0\n",
      "diaBP                0\n",
      "BMI                 19\n",
      "heartRate            1\n",
      "glucose            388\n",
      "TenYearCHD           0\n",
      "dtype: int64\n"
     ]
    }
   ],
   "source": [
    "print(disease_df.isnull().sum())"
   ]
  },
  {
   "cell_type": "code",
   "execution_count": 26,
   "id": "b48bcdfe-c80a-4472-97a3-d96da114b995",
   "metadata": {},
   "outputs": [],
   "source": [
    "disease_df = disease_df.dropna()"
   ]
  },
  {
   "cell_type": "code",
   "execution_count": 27,
   "id": "5247d4f4-ba18-4e49-a011-9e7a8f24d737",
   "metadata": {},
   "outputs": [
    {
     "name": "stdout",
     "output_type": "stream",
     "text": [
      "male               0\n",
      "age                0\n",
      "education          0\n",
      "currentSmoker      0\n",
      "cigsPerDay         0\n",
      "BPMeds             0\n",
      "prevalentStroke    0\n",
      "prevalentHyp       0\n",
      "diabetes           0\n",
      "totChol            0\n",
      "sysBP              0\n",
      "diaBP              0\n",
      "BMI                0\n",
      "heartRate          0\n",
      "glucose            0\n",
      "TenYearCHD         0\n",
      "dtype: int64\n"
     ]
    }
   ],
   "source": [
    "print(disease_df.isnull().sum())"
   ]
  },
  {
   "cell_type": "code",
   "execution_count": 9,
   "id": "3cdffa73-7752-4af4-a44a-ac836e2f7475",
   "metadata": {},
   "outputs": [
    {
     "name": "stdout",
     "output_type": "stream",
     "text": [
      "TenYearCHD\n",
      "0    3101\n",
      "1     557\n",
      "Name: count, dtype: int64\n"
     ]
    }
   ],
   "source": [
    "print(disease_df.TenYearCHD.value_counts())"
   ]
  },
  {
   "cell_type": "code",
   "execution_count": 6,
   "id": "c05af0ba-bf7c-4172-ad17-c7577ef9b661",
   "metadata": {},
   "outputs": [
    {
     "data": {
      "text/plain": [
       "TenYearCHD\n",
       "0    3596\n",
       "1     644\n",
       "Name: count, dtype: int64"
      ]
     },
     "execution_count": 6,
     "metadata": {},
     "output_type": "execute_result"
    }
   ],
   "source": [
    "# Veri setinde mevcut tüm hastaların On Yıllık CHD Kaydı:\n",
    "disease_df['TenYearCHD'].value_counts()"
   ]
  },
  {
   "cell_type": "code",
   "execution_count": 7,
   "id": "5cc9d8c9-308e-4794-8ba2-2cb7d2f4a5dd",
   "metadata": {},
   "outputs": [
    {
     "data": {
      "image/png": "[encoded data removed]",
      "text/plain": [
       "<Figure size 700x500 with 1 Axes>"
      ]
     },
     "metadata": {},
     "output_type": "display_data"
    }
   ],
   "source": [
    "# Ten Year’s CHD Record of all the patients available in the dataset:\n",
    "plt.figure(figsize=(7,5))\n",
    "sns.countplot(x='TenYearCHD',data=disease_df,\n",
    "             palette = \"pastel\")\n",
    "plt.show()"
   ]
  },
  {
   "cell_type": "markdown",
   "id": "9c22cc99-188b-4e58-904a-f911f67d5142",
   "metadata": {},
   "source": [
    "## Splitting the Dataset"
   ]
  },
  {
   "cell_type": "code",
   "execution_count": 29,
   "id": "9e7a1391-9ca4-4db7-8531-5bc5f83e49a6",
   "metadata": {},
   "outputs": [],
   "source": [
    "X = np.asarray(disease_df[['age', 'male', 'cigsPerDay', \n",
    "                           'totChol', 'sysBP', 'glucose']])\n",
    "y = np.asarray(disease_df['TenYearCHD'])"
   ]
  },
  {
   "cell_type": "code",
   "execution_count": 30,
   "id": "f61301e5-2884-4f12-aef8-6ee5ea79d884",
   "metadata": {},
   "outputs": [],
   "source": [
    "# Data Normalization\n",
    "X = preprocessing.StandardScaler().fit(X).transform(X)"
   ]
  },
  {
   "cell_type": "code",
   "execution_count": 31,
   "id": "e200ed43-12bc-4c35-8e84-3ddf281e2833",
   "metadata": {},
   "outputs": [
    {
     "name": "stdout",
     "output_type": "stream",
     "text": [
      "Train set: (2560, 6) (2560,)\n",
      "Test set: (1098, 6) (1098,)\n"
     ]
    }
   ],
   "source": [
    "# Train-and-Test -Split\n",
    "X_train, X_test, y_train, y_test = train_test_split( \n",
    "        X, y, test_size = 0.3, random_state = 4)\n",
    "\n",
    "print ('Train set:', X_train.shape,  y_train.shape)\n",
    "print ('Test set:', X_test.shape,  y_test.shape)"
   ]
  },
  {
   "cell_type": "code",
   "execution_count": 32,
   "id": "d4d13527-f51d-4a23-aea1-add2742bfc0d",
   "metadata": {},
   "outputs": [
    {
     "name": "stdout",
     "output_type": "stream",
     "text": [
      "(2560, 6)\n",
      "(2560,)\n",
      "int64\n"
     ]
    }
   ],
   "source": [
    "print(X_train.shape)\n",
    "print(y_train.shape)\n",
    "print(y_train.dtype)"
   ]
  },
  {
   "cell_type": "code",
   "execution_count": 33,
   "id": "f111ed4a-7705-4afc-a310-1448c56f6428",
   "metadata": {},
   "outputs": [],
   "source": [
    "# Fitting Logistic Regression Model for Heart Disease Prediction\n",
    "logreg = LogisticRegression()\n",
    "logreg.fit(X_train, y_train)\n",
    "y_pred = logreg.predict(X_test)"
   ]
  },
  {
   "cell_type": "markdown",
   "id": "9c364353-f15b-485a-81ef-f5cd313e5ec8",
   "metadata": {},
   "source": [
    "## Evaluating Model"
   ]
  },
  {
   "cell_type": "code",
   "execution_count": 34,
   "id": "71f21894-0bab-47f4-90b9-f0139c97ac40",
   "metadata": {},
   "outputs": [
    {
     "name": "stdout",
     "output_type": "stream",
     "text": [
      "Accuracy of the model is = 0.843351548269581\n"
     ]
    }
   ],
   "source": [
    "# Evaluation and accuracy\n",
    "from sklearn.metrics import accuracy_score\n",
    "print('Accuracy of the model is =', \n",
    "      accuracy_score(y_test, y_pred))"
   ]
  },
  {
   "cell_type": "code",
   "execution_count": 35,
   "id": "f57308ed-68a0-4701-b842-46ad707bf81f",
   "metadata": {},
   "outputs": [
    {
     "data": {
      "image/png": "[encoded data removed]",
      "text/plain": [
       "<Figure size 800x500 with 2 Axes>"
      ]
     },
     "metadata": {},
     "output_type": "display_data"
    },
    {
     "name": "stdout",
     "output_type": "stream",
     "text": [
      "The details for confusion matrix is =\n",
      "              precision    recall  f1-score   support\n",
      "\n",
      "           0       0.85      0.99      0.91       922\n",
      "           1       0.60      0.07      0.12       176\n",
      "\n",
      "    accuracy                           0.84      1098\n",
      "   macro avg       0.72      0.53      0.52      1098\n",
      "weighted avg       0.81      0.84      0.79      1098\n",
      "\n"
     ]
    }
   ],
   "source": [
    "# Confusion matrix \n",
    "from sklearn.metrics import confusion_matrix, classification_report\n",
    "\n",
    "cm = confusion_matrix(y_test, y_pred)\n",
    "conf_matrix = pd.DataFrame(data = cm, \n",
    "                           columns = ['Predicted:0', 'Predicted:1'], \n",
    "                           index =['Actual:0', 'Actual:1'])\n",
    "\n",
    "plt.figure(figsize = (8, 5))\n",
    "sns.heatmap(conf_matrix, annot = True, fmt = 'd', cmap = \"Greens\")\n",
    "\n",
    "plt.show()\n",
    "print('The details for confusion matrix is =')\n",
    "print (classification_report(y_test, y_pred))"
   ]
  }
 ],
 "metadata": {
  "kernelspec": {
   "display_name": "Python 3 (ipykernel)",
   "language": "python",
   "name": "python3"
  },
  "language_info": {
   "codemirror_mode": {
    "name": "ipython",
    "version": 3
   },
   "file_extension": ".py",
   "mimetype": "text/x-python",
   "name": "python",
   "nbconvert_exporter": "python",
   "pygments_lexer": "ipython3",
   "version": "3.11.7"
  }
 },
 "nbformat": 4,
 "nbformat_minor": 5
}
